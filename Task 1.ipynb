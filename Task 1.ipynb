{
 "cells": [
  {
   "cell_type": "code",
   "execution_count": null,
   "id": "1bbf97bf",
   "metadata": {},
   "outputs": [],
   "source": [
    "import pandas as pd\n",
    "import matplotlib.pyplot as plt\n",
    "\n",
    "# --- STEP 1: Give your local file path ---\n",
    "# If the file is in the same folder as your script, just put the filename\n",
    "file_path = r\"C:\\Users\\Moiz Ur Rehman\\Downloads\\WPP2024_POP_F02_1_POPULATION_5-YEAR_AGE_GROUPS_BOTH_SEXES.xlsx\"\n",
    "\n",
    "# --- STEP 2: Load the Excel file ---\n",
    "df = pd.read_excel(file_path)\n",
    "\n",
    "# --- STEP 3: Inspect column names ---\n",
    "print(\"Available columns:\\n\", df.columns)\n",
    "\n",
    "# Normalize column names (remove spaces, lowercase, etc.)\n",
    "df.columns = df.columns.str.strip().str.lower()\n",
    "print(\"\\nNormalized columns:\\n\", df.columns)\n",
    "\n",
    "# --- STEP 4: Auto-detect relevant columns ---\n",
    "location_col = [c for c in df.columns if \"location\" in c or \"country\" in c or \"region\" in c][0]\n",
    "year_col     = [c for c in df.columns if \"year\" in c][0]\n",
    "age_col      = [c for c in df.columns if \"age\" in c][0]\n",
    "pop_col      = [c for c in df.columns if \"pop\" in c][0]\n",
    "\n",
    "print(f\"\\nUsing columns → Location: {location_col}, Year: {year_col}, Age: {age_col}, Population: {pop_col}\")\n",
    "\n",
    "# --- STEP 5: Filter for country and year ---\n",
    "country = \"Pakistan\"\n",
    "year = 2023\n",
    "\n",
    "sub = df[(df[location_col] == country) & (df[year_col] == year)]\n",
    "\n",
    "# --- STEP 6: Plot ---\n",
    "ages = sub[age_col].astype(str)\n",
    "pop = sub[pop_col] / 1000   # convert from thousands to millions\n",
    "\n",
    "plt.figure(figsize=(12,6))\n",
    "plt.bar(ages, pop, color=\"skyblue\", edgecolor=\"black\")\n",
    "plt.xlabel(\"Age Group\")\n",
    "plt.ylabel(\"Population (millions)\")\n",
    "plt.title(f\"Population Distribution by Age Group — {country}, {year}\")\n",
    "plt.xticks(rotation=90)\n",
    "plt.show()\n"
   ]
  }
 ],
 "metadata": {
  "kernelspec": {
   "display_name": "Python 3",
   "language": "python",
   "name": "python3"
  },
  "language_info": {
   "name": "python",
   "version": "3.12.10"
  }
 },
 "nbformat": 4,
 "nbformat_minor": 5
}
